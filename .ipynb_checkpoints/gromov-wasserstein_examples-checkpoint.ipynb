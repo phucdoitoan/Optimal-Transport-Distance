{
 "cells": [
  {
   "cell_type": "code",
   "execution_count": 9,
   "metadata": {},
   "outputs": [],
   "source": [
    "import torch\n",
    "import matplotlib.pyplot as plt\n",
    "from time import time"
   ]
  },
  {
   "cell_type": "code",
   "execution_count": 10,
   "metadata": {},
   "outputs": [
    {
     "ename": "SyntaxError",
     "evalue": "EOL while scanning string literal (gromov_wasserstein.py, line 49)",
     "output_type": "error",
     "traceback": [
      "Traceback \u001b[0;36m(most recent call last)\u001b[0m:\n",
      "  File \u001b[1;32m\"/home/fuku/anaconda3/envs/fuku/lib/python3.7/site-packages/IPython/core/interactiveshell.py\"\u001b[0m, line \u001b[1;32m3331\u001b[0m, in \u001b[1;35mrun_code\u001b[0m\n    exec(code_obj, self.user_global_ns, self.user_ns)\n",
      "\u001b[0;36m  File \u001b[0;32m\"<ipython-input-10-700e01d61cb4>\"\u001b[0;36m, line \u001b[0;32m1\u001b[0;36m, in \u001b[0;35m<module>\u001b[0;36m\u001b[0m\n\u001b[0;31m    from gromov_wasserstein import Entropic_GromovWasserstein as Entropic_GW\u001b[0m\n",
      "\u001b[0;36m  File \u001b[0;32m\"/home/fuku/Optimal_Transport_Distance/gromov_wasserstein.py\"\u001b[0;36m, line \u001b[0;32m49\u001b[0m\n\u001b[0;31m    def forward(self, x, y, px, py, intra_loss_type='L2', dtype='double):\u001b[0m\n\u001b[0m                                                                         ^\u001b[0m\n\u001b[0;31mSyntaxError\u001b[0m\u001b[0;31m:\u001b[0m EOL while scanning string literal\n"
     ]
    }
   ],
   "source": [
    "from gromov_wasserstein import Entropic_GromovWasserstein as Entropic_GW"
   ]
  },
  {
   "cell_type": "code",
   "execution_count": null,
   "metadata": {},
   "outputs": [],
   "source": [
    "def show_P(P):\n",
    "    fig, ax = plt.subplots(1, 2)\n",
    "\n",
    "    ax[0].imshow(P)\n",
    "    ax[0].set_title('P')\n",
    "\n",
    "    max_P, idx = torch.max(P, dim=1, keepdim=True)\n",
    "    X = (P>=max_P).int() #* 10\n",
    "\n",
    "    ax[1].imshow(X)\n",
    "    ax[1].set_title('argmax rows of P')"
   ]
  },
  {
   "cell_type": "markdown",
   "metadata": {},
   "source": [
    "## eps needs not be too small compare to cost matrix's elements (C)\n",
    "\n",
    "If we use stabilized_entropic_wasserstein (stable_sinkhorn=True), we can use small values for eps, but it takes longer time to converge. Therefore, we need to set w_max_iter to larger nubmer.\n",
    "=> Generally, the running time is longer (slower).\n",
    "\\\n",
    "But we can use smaller eps => receive closer to ground-truth transport plan P, better approximation gw_cost for the gromov-wasserstein distance.\n",
    "\\\n",
    "\\\n",
    "If using original entropic wasserstein (stable_sinkhorn=False), we need to use relatively large values for eps, the original wasserstein's codes run faster than the stable version, and we can set w_max_iter to small number (even 1 iter is okie, check 7.4 of Gromov-Wasserstein Learning for Graph Matching and Node Embedding).\n",
    "\\\n",
    "However, we have to use relatively large eps => the learned plan P will be denser, and less accurate approximation gw_cost."
   ]
  },
  {
   "cell_type": "markdown",
   "metadata": {},
   "source": [
    "### Ex1"
   ]
  },
  {
   "cell_type": "code",
   "execution_count": 3,
   "metadata": {},
   "outputs": [],
   "source": [
    "# randomly create point clouds x, y\n",
    "# y is just a translated cloud from x\n",
    "\n",
    "x = torch.randn((50, 2)) * 10\n",
    "y = x.clone() + 100\n",
    "\n",
    "x = torch.tensor([[0, 0], [0, 2], [1, 0], [1, 1]]).float()\n",
    "y = x.clone() + 5\n",
    "\n",
    "n = 20\n",
    "x = torch.tensor([[i, 0*i + 1] for i in range(n)]).float()\n",
    "y = x.clone() + n\n",
    "\n",
    "#noise = torch.randn(y.shape) * 2\n",
    "\n",
    "px = torch.ones(x.shape[0])\n",
    "px /= px.sum()\n",
    "\n",
    "py = torch.ones(y.shape[0])\n",
    "py /= py.sum()"
   ]
  },
  {
   "cell_type": "code",
   "execution_count": 4,
   "metadata": {},
   "outputs": [
    {
     "data": {
      "text/plain": [
       "<matplotlib.collections.PathCollection at 0x2ba92b71afd0>"
      ]
     },
     "execution_count": 4,
     "metadata": {},
     "output_type": "execute_result"
    },
    {
     "data": {
      "image/png": "[encoded data removed]",
      "text/plain": [
       "<Figure size 432x288 with 1 Axes>"
      ]
     },
     "metadata": {
      "needs_background": "light"
     },
     "output_type": "display_data"
    }
   ],
   "source": [
    "# visualize the points in 2D\n",
    "\n",
    "points = torch.cat((x,y), dim=0)\n",
    "colors = torch.cat((torch.zeros(x.shape[0]), torch.ones(y.shape[0])), dim=0)\n",
    "\n",
    "plt.scatter(points[:,0], points[:, 1], c=colors)"
   ]
  },
  {
   "cell_type": "code",
   "execution_count": 5,
   "metadata": {},
   "outputs": [
    {
     "name": "stdout",
     "output_type": "stream",
     "text": [
      "cuda:0\n"
     ]
    }
   ],
   "source": [
    "device = torch.device('cuda:0' if torch.cuda.is_available() else 'cpu')\n",
    "print(device)\n",
    "\n",
    "x = x.to(device)\n",
    "y = y.to(device)\n",
    "px = px.to(device)\n",
    "py = py.to(device)"
   ]
  },
  {
   "cell_type": "code",
   "execution_count": 6,
   "metadata": {},
   "outputs": [
    {
     "ename": "NameError",
     "evalue": "name 'Entropic_GW' is not defined",
     "output_type": "error",
     "traceback": [
      "\u001b[0;31m---------------------------------------------------------------------------\u001b[0m",
      "\u001b[0;31mNameError\u001b[0m                                 Traceback (most recent call last)",
      "\u001b[0;32m<ipython-input-6-ba41ec1a231e>\u001b[0m in \u001b[0;36m<module>\u001b[0;34m\u001b[0m\n\u001b[1;32m      1\u001b[0m \u001b[0;31m# stable version\u001b[0m\u001b[0;34m\u001b[0m\u001b[0;34m\u001b[0m\u001b[0;34m\u001b[0m\u001b[0m\n\u001b[1;32m      2\u001b[0m \u001b[0;31m# eps = 1e0 => w_max_iter is large\u001b[0m\u001b[0;34m\u001b[0m\u001b[0;34m\u001b[0m\u001b[0;34m\u001b[0m\u001b[0m\n\u001b[0;32m----> 3\u001b[0;31m gw_dist = Entropic_GW(eps=1e0, max_iter=100, thresh=1e-5, \n\u001b[0m\u001b[1;32m      4\u001b[0m                       \u001b[0mw_max_iter\u001b[0m\u001b[0;34m=\u001b[0m\u001b[0;36m500\u001b[0m\u001b[0;34m,\u001b[0m \u001b[0mw_thresh\u001b[0m\u001b[0;34m=\u001b[0m\u001b[0;36m1e-9\u001b[0m\u001b[0;34m,\u001b[0m\u001b[0;34m\u001b[0m\u001b[0;34m\u001b[0m\u001b[0m\n\u001b[1;32m      5\u001b[0m                       \u001b[0minter_loss_type\u001b[0m\u001b[0;34m=\u001b[0m\u001b[0;34m'square_loss'\u001b[0m\u001b[0;34m,\u001b[0m\u001b[0;34m\u001b[0m\u001b[0;34m\u001b[0m\u001b[0m\n",
      "\u001b[0;31mNameError\u001b[0m: name 'Entropic_GW' is not defined"
     ]
    }
   ],
   "source": [
    "# stable version\n",
    "# eps = 1e0 => w_max_iter is large\n",
    "gw_dist = Entropic_GW(eps=1e0, max_iter=100, thresh=1e-5, \n",
    "                      w_max_iter=500, w_thresh=1e-9,\n",
    "                      inter_loss_type='square_loss', \n",
    "                      stable_sinkhorn=True, verbose=True)\n",
    "\n",
    "t0 = time()\n",
    "gw_cost, P = gw_dist(x, y, px, py)\n",
    "print('Computed in %.4f s' %(time() - t0))\n",
    "print('gw_cost: %.5f' %(gw_cost))\n",
    "\n",
    "show_P(P.to('cpu'))"
   ]
  },
  {
   "cell_type": "code",
   "execution_count": null,
   "metadata": {},
   "outputs": [],
   "source": [
    "# stable version\n",
    "# eps = 1e2, w_max_iter = 1 \n",
    "gw_dist = Entropic_GW(eps=1e2, max_iter=100, thresh=1e-5, \n",
    "                      w_max_iter=1, w_thresh=1e-9,\n",
    "                      inter_loss_type='square_loss', \n",
    "                      stable_sinkhorn=True, verbose=True)\n",
    "\n",
    "t0 = time()\n",
    "gw_cost, P = gw_dist(x, y, px, py)\n",
    "print('Computed in %.4f s' %(time() - t0))\n",
    "print('gw_cost: %.5f' %(gw_cost))\n",
    "\n",
    "show_P(P.to('cpu'))"
   ]
  },
  {
   "cell_type": "code",
   "execution_count": null,
   "metadata": {
    "scrolled": true
   },
   "outputs": [],
   "source": [
    "# original wasserstein\n",
    "# eps = 1e3, max_iter = 1\n",
    "gw_dist = Entropic_GW(eps=1e3, max_iter=100, thresh=1e-5, \n",
    "                      w_max_iter=1, w_thresh=1e-9,\n",
    "                      inter_loss_type='square_loss', \n",
    "                      stable_sinkhorn=False, verbose=True)\n",
    "\n",
    "t0 = time()\n",
    "gw_cost, P = gw_dist(x, y, px, py)\n",
    "print('Computed in %.4f s' %(time() - t0))\n",
    "print('gw_cost: %.5f' %(gw_cost))\n",
    "\n",
    "show_P(P.to('cpu'))"
   ]
  },
  {
   "cell_type": "markdown",
   "metadata": {},
   "source": [
    "### Ex2"
   ]
  },
  {
   "cell_type": "code",
   "execution_count": null,
   "metadata": {},
   "outputs": [],
   "source": [
    "# randomly create point clouds x, y\n",
    "# y is just a translated cloud from x\n",
    "\n",
    "x = torch.randn((100, 2)) * 10\n",
    "y = x.clone() + 100\n",
    "\n",
    "#noise = torch.randn(y.shape) * 2\n",
    "\n",
    "px = torch.ones(x.shape[0])\n",
    "px /= px.sum()\n",
    "\n",
    "py = torch.ones(y.shape[0])\n",
    "py /= py.sum()"
   ]
  },
  {
   "cell_type": "code",
   "execution_count": null,
   "metadata": {},
   "outputs": [],
   "source": [
    "# visualize the points in 2D\n",
    "\n",
    "points = torch.cat((x,y), dim=0)\n",
    "colors = torch.cat((torch.zeros(x.shape[0]), torch.ones(y.shape[0])), dim=0)\n",
    "\n",
    "plt.scatter(points[:,0], points[:, 1], c=colors)"
   ]
  },
  {
   "cell_type": "code",
   "execution_count": null,
   "metadata": {},
   "outputs": [],
   "source": [
    "x = x.double().to(device)\n",
    "y = y.double().to(device)\n",
    "px = px.double().to(device)\n",
    "py = py.double().to(device)\n",
    "\n",
    "print(device)"
   ]
  },
  {
   "cell_type": "code",
   "execution_count": 7,
   "metadata": {},
   "outputs": [
    {
     "ename": "NameError",
     "evalue": "name 'Entropic_GW' is not defined",
     "output_type": "error",
     "traceback": [
      "\u001b[0;31m---------------------------------------------------------------------------\u001b[0m",
      "\u001b[0;31mNameError\u001b[0m                                 Traceback (most recent call last)",
      "\u001b[0;32m<ipython-input-7-6ae0f5318169>\u001b[0m in \u001b[0;36m<module>\u001b[0;34m\u001b[0m\n\u001b[1;32m      1\u001b[0m \u001b[0;31m# stable version\u001b[0m\u001b[0;34m\u001b[0m\u001b[0;34m\u001b[0m\u001b[0;34m\u001b[0m\u001b[0m\n\u001b[1;32m      2\u001b[0m \u001b[0;31m# eps=50, w_max_iter need to be large\u001b[0m\u001b[0;34m\u001b[0m\u001b[0;34m\u001b[0m\u001b[0;34m\u001b[0m\u001b[0m\n\u001b[0;32m----> 3\u001b[0;31m gw_dist = Entropic_GW(eps=50, max_iter=50, thresh=1e-9, \n\u001b[0m\u001b[1;32m      4\u001b[0m                       \u001b[0mw_max_iter\u001b[0m\u001b[0;34m=\u001b[0m\u001b[0;36m10000\u001b[0m\u001b[0;34m,\u001b[0m \u001b[0mw_thresh\u001b[0m\u001b[0;34m=\u001b[0m\u001b[0;36m1e-9\u001b[0m\u001b[0;34m,\u001b[0m\u001b[0;34m\u001b[0m\u001b[0;34m\u001b[0m\u001b[0m\n\u001b[1;32m      5\u001b[0m                       \u001b[0minter_loss_type\u001b[0m\u001b[0;34m=\u001b[0m\u001b[0;34m'square_loss'\u001b[0m\u001b[0;34m,\u001b[0m\u001b[0;34m\u001b[0m\u001b[0;34m\u001b[0m\u001b[0m\n",
      "\u001b[0;31mNameError\u001b[0m: name 'Entropic_GW' is not defined"
     ]
    }
   ],
   "source": [
    "# stable version\n",
    "# eps=50, w_max_iter need to be large\n",
    "gw_dist = Entropic_GW(eps=50, max_iter=50, thresh=1e-9, \n",
    "                      w_max_iter=10000, w_thresh=1e-9,\n",
    "                      inter_loss_type='square_loss', \n",
    "                      stable_sinkhorn=True, verbose=True)\n",
    "\n",
    "t0 = time()\n",
    "gw_cost, P = gw_dist(x, y, px, py)\n",
    "print('Computed in %.4f s' %(time() - t0))\n",
    "print('gw_cost: %.5f' %(gw_cost))\n",
    "\n",
    "show_P(P.to('cpu'))"
   ]
  },
  {
   "cell_type": "code",
   "execution_count": 8,
   "metadata": {},
   "outputs": [
    {
     "ename": "NameError",
     "evalue": "name 'Entropic_GW' is not defined",
     "output_type": "error",
     "traceback": [
      "\u001b[0;31m---------------------------------------------------------------------------\u001b[0m",
      "\u001b[0;31mNameError\u001b[0m                                 Traceback (most recent call last)",
      "\u001b[0;32m<ipython-input-8-f7b72ee415ec>\u001b[0m in \u001b[0;36m<module>\u001b[0;34m\u001b[0m\n\u001b[1;32m      1\u001b[0m \u001b[0;31m# original version\u001b[0m\u001b[0;34m\u001b[0m\u001b[0;34m\u001b[0m\u001b[0;34m\u001b[0m\u001b[0m\n\u001b[1;32m      2\u001b[0m \u001b[0;31m# eps = 1e4 (need to be large), w_max_iter = 100 (can be small)\u001b[0m\u001b[0;34m\u001b[0m\u001b[0;34m\u001b[0m\u001b[0;34m\u001b[0m\u001b[0m\n\u001b[0;32m----> 3\u001b[0;31m gw_dist = Entropic_GW(eps=1e4, max_iter=100, thresh=1e-9, \n\u001b[0m\u001b[1;32m      4\u001b[0m                       \u001b[0mw_max_iter\u001b[0m\u001b[0;34m=\u001b[0m\u001b[0;36m100\u001b[0m\u001b[0;34m,\u001b[0m \u001b[0mw_thresh\u001b[0m\u001b[0;34m=\u001b[0m\u001b[0;36m1e-9\u001b[0m\u001b[0;34m,\u001b[0m\u001b[0;34m\u001b[0m\u001b[0;34m\u001b[0m\u001b[0m\n\u001b[1;32m      5\u001b[0m                       \u001b[0minter_loss_type\u001b[0m\u001b[0;34m=\u001b[0m\u001b[0;34m'square_loss'\u001b[0m\u001b[0;34m,\u001b[0m\u001b[0;34m\u001b[0m\u001b[0;34m\u001b[0m\u001b[0m\n",
      "\u001b[0;31mNameError\u001b[0m: name 'Entropic_GW' is not defined"
     ]
    }
   ],
   "source": [
    "# original version \n",
    "# eps = 1e4 (need to be large), w_max_iter = 100 (can be small)\n",
    "gw_dist = Entropic_GW(eps=1e4, max_iter=100, thresh=1e-9, \n",
    "                      w_max_iter=100, w_thresh=1e-9,\n",
    "                      inter_loss_type='square_loss', \n",
    "                      stable_sinkhorn=False, verbose=True)\n",
    "\n",
    "t0 = time()\n",
    "gw_cost, P = gw_dist(x, y, px, py)\n",
    "print('Computed in %.4f s' %(time() - t0))\n",
    "print('gw_cost: %.5f' %(gw_cost))\n",
    "\n",
    "show_P(P.to('cpu'))"
   ]
  },
  {
   "cell_type": "markdown",
   "metadata": {},
   "source": [
    "### Ex3"
   ]
  },
  {
   "cell_type": "code",
   "execution_count": 15,
   "metadata": {},
   "outputs": [],
   "source": [
    "# randomly create point clouds x, y\n",
    "# y is just a translated cloud from x\n",
    "\n",
    "x = torch.randn((1000, 2)) #* 10\n",
    "y = x.clone() + 100\n",
    "\n",
    "#noise = torch.randn(y.shape) * 2\n",
    "\n",
    "px = torch.ones(x.shape[0])\n",
    "px /= px.sum()\n",
    "\n",
    "py = torch.ones(y.shape[0])\n",
    "py /= py.sum()\n"
   ]
  },
  {
   "cell_type": "code",
   "execution_count": 16,
   "metadata": {},
   "outputs": [
    {
     "data": {
      "text/plain": [
       "<matplotlib.collections.PathCollection at 0x2b20d7f50fd0>"
      ]
     },
     "execution_count": 16,
     "metadata": {},
     "output_type": "execute_result"
    },
    {
     "data": {
      "image/png": "[encoded data removed]",
      "text/plain": [
       "<Figure size 432x288 with 1 Axes>"
      ]
     },
     "metadata": {
      "needs_background": "light"
     },
     "output_type": "display_data"
    }
   ],
   "source": [
    "# visualize the points in 2D\n",
    "\n",
    "points = torch.cat((x,y), dim=0)\n",
    "colors = torch.cat((torch.zeros(x.shape[0]), torch.ones(y.shape[0])), dim=0)\n",
    "\n",
    "plt.scatter(points[:,0], points[:, 1], c=colors)"
   ]
  },
  {
   "cell_type": "code",
   "execution_count": 17,
   "metadata": {},
   "outputs": [],
   "source": [
    "x = x.double().to(device)\n",
    "y = y.double().to(device)\n",
    "px = px.double().to(device)\n",
    "py = py.double().to(device)"
   ]
  },
  {
   "cell_type": "code",
   "execution_count": 18,
   "metadata": {},
   "outputs": [
    {
     "name": "stdout",
     "output_type": "stream",
     "text": [
      "Iter: 0 | Err = 0.004732\n",
      "Iter: 10 | Err = 0.011343\n",
      "Break in Gromov-Wasserstein at 20-th iteration: Err = 0.000000\n",
      "Computed in 20.1317 s\n",
      "gw_cost: 0.12163\n"
     ]
    },
    {
     "data": {
      "image/png": "[encoded data removed]",
      "text/plain": [
       "<Figure size 432x288 with 2 Axes>"
      ]
     },
     "metadata": {
      "needs_background": "light"
     },
     "output_type": "display_data"
    }
   ],
   "source": [
    "# stable version\n",
    "# eps = 0.1 (small), w_max_iter = 1000 (large)\n",
    "gw_dist = Entropic_GW(eps=0.1, max_iter=50, thresh=1e-9, \n",
    "                      w_max_iter=1000, w_thresh=1e-9,\n",
    "                      inter_loss_type='square_loss', \n",
    "                      stable_sinkhorn=True, verbose=True)\n",
    "\n",
    "t0 = time()\n",
    "gw_cost, P = gw_dist(x, y, px, py)\n",
    "print('Computed in %.4f s' %(time() - t0))\n",
    "print('gw_cost: %.5f' %(gw_cost))\n",
    "\n",
    "show_P(P.to('cpu'))"
   ]
  },
  {
   "cell_type": "code",
   "execution_count": 19,
   "metadata": {},
   "outputs": [
    {
     "name": "stdout",
     "output_type": "stream",
     "text": [
      "Iter: 0 | Err = 0.002968\n",
      "Iter: 10 | Err = 0.000048\n",
      "Iter: 20 | Err = 0.000000\n",
      "Break in Gromov-Wasserstein at 30-th iteration: Err = 0.000000\n",
      "Computed in 1.3519 s\n",
      "gw_cost: 1.71497\n"
     ]
    },
    {
     "data": {
      "image/png": "[encoded data removed]",
      "text/plain": [
       "<Figure size 432x288 with 2 Axes>"
      ]
     },
     "metadata": {
      "needs_background": "light"
     },
     "output_type": "display_data"
    }
   ],
   "source": [
    "# unstable\n",
    "# eps = 1 (large), w_max_iter = 100 (small)\n",
    "gw_dist = Entropic_GW(eps=1, max_iter=50, thresh=1e-9, \n",
    "                      w_max_iter=100, w_thresh=1e-9,\n",
    "                      inter_loss_type='square_loss', \n",
    "                      stable_sinkhorn=False, verbose=True)\n",
    "\n",
    "t0 = time()\n",
    "gw_cost, P = gw_dist(x, y, px, py)\n",
    "print('Computed in %.4f s' %(time() - t0))\n",
    "print('gw_cost: %.5f' %(gw_cost))\n",
    "\n",
    "show_P(P.to('cpu'))"
   ]
  },
  {
   "cell_type": "markdown",
   "metadata": {},
   "source": [
    "Comparing with gromov.entropic_gromov_wasserstein of POT library"
   ]
  },
  {
   "cell_type": "code",
   "execution_count": 20,
   "metadata": {},
   "outputs": [],
   "source": [
    "import ot"
   ]
  },
  {
   "cell_type": "code",
   "execution_count": 21,
   "metadata": {},
   "outputs": [],
   "source": [
    "def cost_matrix(x, y):\n",
    "    x_row = x.unsqueeze(-2)\n",
    "    y_col = y.unsqueeze(-3)\n",
    "    \n",
    "    return torch.sum((x_row - y_col) ** 2, dim=-1)\n",
    "\n",
    "Cx = cost_matrix(x, x)\n",
    "Cy = cost_matrix(y, y)"
   ]
  },
  {
   "cell_type": "markdown",
   "metadata": {},
   "source": [
    "POT has to use 'cpu' -> much slower"
   ]
  },
  {
   "cell_type": "code",
   "execution_count": 22,
   "metadata": {},
   "outputs": [
    {
     "name": "stdout",
     "output_type": "stream",
     "text": [
      "It.  |Err         \n",
      "-------------------\n",
      "    0|2.818983e-03|\n",
      "   10|1.134128e-07|\n",
      "   20|4.540389e-10|\n",
      "compute in 28.39 s\n"
     ]
    },
    {
     "data": {
      "image/png": "[encoded data removed]",
      "text/plain": [
       "<Figure size 432x288 with 2 Axes>"
      ]
     },
     "metadata": {
      "needs_background": "light"
     },
     "output_type": "display_data"
    }
   ],
   "source": [
    "t0 = time()\n",
    "P = ot.gromov.entropic_gromov_wasserstein(Cx.to('cpu'), Cy.to('cpu'), px.to('cpu'), py.to('cpu'), loss_fun='square_loss', \n",
    "    epsilon=1., max_iter=50, tol=1e-9, verbose=True)\n",
    "print('compute in %.2f s' %(time() - t0))\n",
    "\n",
    "show_P(torch.from_numpy(P))"
   ]
  },
  {
   "cell_type": "code",
   "execution_count": null,
   "metadata": {},
   "outputs": [],
   "source": []
  }
 ],
 "metadata": {
  "kernelspec": {
   "display_name": "Python 3",
   "language": "python",
   "name": "python3"
  },
  "language_info": {
   "codemirror_mode": {
    "name": "ipython",
    "version": 3
   },
   "file_extension": ".py",
   "mimetype": "text/x-python",
   "name": "python",
   "nbconvert_exporter": "python",
   "pygments_lexer": "ipython3",
   "version": "3.7.6"
  }
 },
 "nbformat": 4,
 "nbformat_minor": 4
}
