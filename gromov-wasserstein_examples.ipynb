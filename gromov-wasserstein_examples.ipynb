{
 "cells": [
  {
   "cell_type": "code",
   "execution_count": 1,
   "metadata": {},
   "outputs": [],
   "source": [
    "import torch\n",
    "import matplotlib.pyplot as plt\n",
    "from time import time"
   ]
  },
  {
   "cell_type": "code",
   "execution_count": 2,
   "metadata": {},
   "outputs": [],
   "source": [
    "from gromov_wasserstein import Entropic_GromovWasserstein as Entropic_GW"
   ]
  },
  {
   "cell_type": "code",
   "execution_count": 3,
   "metadata": {},
   "outputs": [],
   "source": [
    "def show_P(P):\n",
    "    fig, ax = plt.subplots(1, 2)\n",
    "\n",
    "    ax[0].imshow(P)\n",
    "    ax[0].set_title('P')\n",
    "\n",
    "    max_P, idx = torch.max(P, dim=1, keepdim=True)\n",
    "    X = (P>=max_P).int() #* 10\n",
    "\n",
    "    ax[1].imshow(X)\n",
    "    ax[1].set_title('argmax rows of P')"
   ]
  },
  {
   "cell_type": "code",
   "execution_count": 52,
   "metadata": {},
   "outputs": [],
   "source": [
    "# randomly create point clouds x, y\n",
    "# y is just a translated cloud from x\n",
    "\n",
    "x = torch.randn((50, 2)) * 10\n",
    "y = x.clone() + 100\n",
    "\n",
    "x = torch.tensor([[0, 0], [0, 2], [1, 0], [1, 1]]).float()\n",
    "y = x.clone() + 5\n",
    "\n",
    "n = 20\n",
    "x = torch.tensor([[i, 0*i + 1] for i in range(n)]).float()\n",
    "y = x.clone() + n\n",
    "\n",
    "#noise = torch.randn(y.shape) * 2\n",
    "\n",
    "px = torch.ones(x.shape[0])\n",
    "px /= px.sum()\n",
    "\n",
    "py = torch.ones(y.shape[0])\n",
    "py /= py.sum()"
   ]
  },
  {
   "cell_type": "code",
   "execution_count": 53,
   "metadata": {},
   "outputs": [
    {
     "data": {
      "text/plain": [
       "<matplotlib.collections.PathCollection at 0x7efcc28fd3d0>"
      ]
     },
     "execution_count": 53,
     "metadata": {},
     "output_type": "execute_result"
    },
    {
     "data": {
      "image/png": "[encoded data removed]",
      "text/plain": [
       "<Figure size 432x288 with 1 Axes>"
      ]
     },
     "metadata": {
      "needs_background": "light"
     },
     "output_type": "display_data"
    }
   ],
   "source": [
    "# visualize the points in 2D\n",
    "\n",
    "points = torch.cat((x,y), dim=0)\n",
    "colors = torch.cat((torch.zeros(x.shape[0]), torch.ones(y.shape[0])), dim=0)\n",
    "\n",
    "plt.scatter(points[:,0], points[:, 1], c=colors)"
   ]
  },
  {
   "cell_type": "code",
   "execution_count": 77,
   "metadata": {},
   "outputs": [
    {
     "name": "stdout",
     "output_type": "stream",
     "text": [
      "It: 0 | Err = 0.133754\n",
      "Break in Sinkhorn alg at 1-th iteration: Err = 0.000000\n",
      "Break in Sinkhorn alg at 1-th iteration: Err = 0.000000\n",
      "Break in Gromov-Wasserstein at 7-th iteration: Err = 0.000000\n",
      "Computed in 0.7732 s\n",
      "gw_cost: 0.00581\n"
     ]
    },
    {
     "data": {
      "image/png": "[encoded data removed]",
      "text/plain": [
       "<Figure size 432x288 with 2 Axes>"
      ]
     },
     "metadata": {
      "needs_background": "light"
     },
     "output_type": "display_data"
    }
   ],
   "source": [
    "gw_dist = Entropic_GW(eps=1e0, max_iter=100, thresh=1e-5, \n",
    "                      w_max_iter=500, w_thresh=1e-9,\n",
    "                      inter_loss_type='square_loss', \n",
    "                      stable_sinkhorn=True, verbose=True)\n",
    "\n",
    "t0 = time()\n",
    "gw_cost, P = gw_dist(x, y, px, py)\n",
    "print('Computed in %.4f s' %(time() - t0))\n",
    "print('gw_cost: %.5f' %(gw_cost))\n",
    "\n",
    "show_P(P)"
   ]
  },
  {
   "cell_type": "code",
   "execution_count": 63,
   "metadata": {},
   "outputs": [
    {
     "name": "stdout",
     "output_type": "stream",
     "text": [
      "It: 0 | Err = 0.100426\n",
      "It: 10 | Err = 0.004610\n",
      "It: 20 | Err = 0.000058\n",
      "Break in Gromov-Wasserstein at 25-th iteration: Err = 0.000007\n",
      "Computed in 0.0192 s\n",
      "gw_cost: 699.16504\n"
     ]
    },
    {
     "data": {
      "image/png": "[encoded data removed]",
      "text/plain": [
       "<Figure size 432x288 with 2 Axes>"
      ]
     },
     "metadata": {
      "needs_background": "light"
     },
     "output_type": "display_data"
    }
   ],
   "source": [
    "gw_dist = Entropic_GW(eps=1e3, max_iter=100, thresh=1e-5, \n",
    "                      w_max_iter=1, w_thresh=1e-9,\n",
    "                      inter_loss_type='square_loss', \n",
    "                      stable_sinkhorn=False, verbose=True)\n",
    "\n",
    "t0 = time()\n",
    "gw_cost, P = gw_dist(x, y, px, py)\n",
    "print('Computed in %.4f s' %(time() - t0))\n",
    "print('gw_cost: %.5f' %(gw_cost))\n",
    "\n",
    "show_P(P)"
   ]
  },
  {
   "cell_type": "code",
   "execution_count": null,
   "metadata": {},
   "outputs": [],
   "source": []
  },
  {
   "cell_type": "code",
   "execution_count": 78,
   "metadata": {},
   "outputs": [],
   "source": [
    "# randomly create point clouds x, y\n",
    "# y is just a translated cloud from x\n",
    "\n",
    "x = torch.randn((50, 2)) * 10\n",
    "y = x.clone() + 100\n",
    "\n",
    "#noise = torch.randn(y.shape) * 2\n",
    "\n",
    "px = torch.ones(x.shape[0])\n",
    "px /= px.sum()\n",
    "\n",
    "py = torch.ones(y.shape[0])\n",
    "py /= py.sum()"
   ]
  },
  {
   "cell_type": "code",
   "execution_count": 79,
   "metadata": {},
   "outputs": [
    {
     "data": {
      "text/plain": [
       "<matplotlib.collections.PathCollection at 0x7efcc31c2a10>"
      ]
     },
     "execution_count": 79,
     "metadata": {},
     "output_type": "execute_result"
    },
    {
     "data": {
      "image/png": "[encoded data removed]",
      "text/plain": [
       "<Figure size 432x288 with 1 Axes>"
      ]
     },
     "metadata": {
      "needs_background": "light"
     },
     "output_type": "display_data"
    }
   ],
   "source": [
    "# visualize the points in 2D\n",
    "\n",
    "points = torch.cat((x,y), dim=0)\n",
    "colors = torch.cat((torch.zeros(x.shape[0]), torch.ones(y.shape[0])), dim=0)\n",
    "\n",
    "plt.scatter(points[:,0], points[:, 1], c=colors)"
   ]
  },
  {
   "cell_type": "code",
   "execution_count": 86,
   "metadata": {},
   "outputs": [
    {
     "name": "stdout",
     "output_type": "stream",
     "text": [
      "It: 0 | Err = 0.127753\n",
      "It: 10 | Err = 0.019740\n",
      "Break in Gromov-Wasserstein at 14-th iteration: Err = 0.000000\n",
      "Computed in 5.3545 s\n",
      "gw_cost: 28991.55469\n"
     ]
    },
    {
     "data": {
      "image/png": "[encoded data removed]",
      "text/plain": [
       "<Figure size 432x288 with 2 Axes>"
      ]
     },
     "metadata": {
      "needs_background": "light"
     },
     "output_type": "display_data"
    }
   ],
   "source": [
    "gw_dist = Entropic_GW(eps=1e-1, max_iter=100, thresh=1e-9, \n",
    "                      w_max_iter=1000, w_thresh=1e-9,\n",
    "                      inter_loss_type='square_loss', \n",
    "                      stable_sinkhorn=True, verbose=True)\n",
    "\n",
    "t0 = time()\n",
    "gw_cost, P = gw_dist(x, y, px, py)\n",
    "print('Computed in %.4f s' %(time() - t0))\n",
    "print('gw_cost: %.5f' %(gw_cost))\n",
    "\n",
    "show_P(P)"
   ]
  },
  {
   "cell_type": "code",
   "execution_count": null,
   "metadata": {},
   "outputs": [],
   "source": []
  }
 ],
 "metadata": {
  "kernelspec": {
   "display_name": "Python 3",
   "language": "python",
   "name": "python3"
  },
  "language_info": {
   "codemirror_mode": {
    "name": "ipython",
    "version": 3
   },
   "file_extension": ".py",
   "mimetype": "text/x-python",
   "name": "python",
   "nbconvert_exporter": "python",
   "pygments_lexer": "ipython3",
   "version": "3.7.5"
  }
 },
 "nbformat": 4,
 "nbformat_minor": 4
}
