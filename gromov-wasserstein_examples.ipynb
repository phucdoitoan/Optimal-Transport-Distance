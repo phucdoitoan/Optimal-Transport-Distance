{
 "cells": [
  {
   "cell_type": "code",
   "execution_count": 1,
   "metadata": {},
   "outputs": [],
   "source": [
    "import torch\n",
    "import matplotlib.pyplot as plt\n",
    "from time import time"
   ]
  },
  {
   "cell_type": "code",
   "execution_count": 2,
   "metadata": {},
   "outputs": [],
   "source": [
    "from gromov_wasserstein import Entropic_GromovWasserstein as Entropic_GW"
   ]
  },
  {
   "cell_type": "code",
   "execution_count": 125,
   "metadata": {},
   "outputs": [],
   "source": [
    "def show_P(P, filename, savefig=False):\n",
    "    fig, ax = plt.subplots(1, 2)\n",
    "\n",
    "    ax[0].imshow(P)\n",
    "    ax[0].set_title('P')\n",
    "\n",
    "    max_P, idx = torch.max(P, dim=1, keepdim=True)\n",
    "    X = (P>=max_P).int() #* 10\n",
    "\n",
    "    ax[1].imshow(X)\n",
    "    ax[1].set_title('argmax rows of P')\n",
    "    \n",
    "    if savefig:\n",
    "        fig.savefig(filename)"
   ]
  },
  {
   "cell_type": "markdown",
   "metadata": {},
   "source": [
    "## eps needs not be too small compare to cost matrix's elements (C)\n",
    "\n",
    "If we use stabilized_entropic_wasserstein (stable_sinkhorn=True), we can use small values for eps, but it takes longer time to converge. Therefore, we need to set w_max_iter to larger nubmer.\n",
    "=> Generally, the running time is longer (slower).\n",
    "\\\n",
    "But we can use smaller eps => receive closer to ground-truth transport plan P, better approximation gw_cost for the gromov-wasserstein distance.\n",
    "\\\n",
    "\\\n",
    "If using original entropic wasserstein (stable_sinkhorn=False), we need to use relatively large values for eps, the original wasserstein's codes run faster than the stable version, and we can set w_max_iter to small number (even 1 iter is okie, check 7.4 of Gromov-Wasserstein Learning for Graph Matching and Node Embedding).\n",
    "\\\n",
    "However, we have to use relatively large eps => the learned plan P will be denser, and less accurate approximation gw_cost."
   ]
  },
  {
   "cell_type": "markdown",
   "metadata": {},
   "source": [
    "### Ex0: Simple rotation"
   ]
  },
  {
   "cell_type": "code",
   "execution_count": 116,
   "metadata": {},
   "outputs": [],
   "source": [
    "# randomly create point clouds x, y\n",
    "# y is just a translated cloud from x\n",
    "\n",
    "PI = torch.tensor(torch.acos(torch.zeros(1)).item() * 2)\n",
    "theta = PI * 1/2\n",
    "rotation = torch.tensor([[torch.cos(theta), -torch.sin(theta)], \n",
    "                         [torch.sin(theta), torch.cos(theta)]])\n",
    "\n",
    "#x = torch.randn((500, 2)) + 10\n",
    "x = torch.tensor([[0., 0.], [0., 2.], [1., 0.], [1., 1.]])\n",
    "\n",
    "n = 15\n",
    "x = torch.tensor([[i, 0*i + 1] for i in range(n)]).float()\n",
    "#y = x.clone() + 5\n",
    "y = x @ rotation.T + 5\n",
    "\n",
    "#noise = torch.randn(y.shape) * 2\n",
    "\n",
    "px = torch.ones(x.shape[0])\n",
    "px /= px.sum()\n",
    "\n",
    "py = torch.ones(y.shape[0])\n",
    "py /= py.sum()"
   ]
  },
  {
   "cell_type": "code",
   "execution_count": 124,
   "metadata": {},
   "outputs": [
    {
     "data": {
      "image/png": "[encoded data removed]",
      "text/plain": [
       "<Figure size 432x288 with 1 Axes>"
      ]
     },
     "metadata": {
      "needs_background": "light"
     },
     "output_type": "display_data"
    }
   ],
   "source": [
    "# visualize the points in 2D\n",
    "\n",
    "points = torch.cat((x,y), dim=0)\n",
    "colors = torch.cat((torch.zeros(x.shape[0]), torch.ones(y.shape[0])), dim=0)\n",
    "\n",
    "plt.scatter(points[:,0], points[:, 1], c=colors)\n",
    "\n",
    "plt.savefig('simple_rotation_points.png')"
   ]
  },
  {
   "cell_type": "code",
   "execution_count": 118,
   "metadata": {},
   "outputs": [
    {
     "name": "stdout",
     "output_type": "stream",
     "text": [
      "cpu\n"
     ]
    }
   ],
   "source": [
    "device = torch.device('cuda:0' if torch.cuda.is_available() else 'cpu')\n",
    "print(device)\n",
    "\n",
    "x = x.to(device)\n",
    "y = y.to(device)\n",
    "px = px.to(device)\n",
    "py = py.to(device)"
   ]
  },
  {
   "cell_type": "code",
   "execution_count": 127,
   "metadata": {},
   "outputs": [
    {
     "name": "stdout",
     "output_type": "stream",
     "text": [
      "Iter: 0 | Err = 0.156288\n",
      "Break in Sinkhorn alg at 1-th iteration: Err = 0.000000\n",
      "Iter: 10 | Err = 0.000805\n",
      "Break in Sinkhorn alg at 1-th iteration: Err = 0.000000\n",
      "Break in Gromov-Wasserstein at 11-th iteration: Err = 0.000000\n",
      "Computed in 3.1617 s\n",
      "gw_cost: 0.00000\n"
     ]
    },
    {
     "data": {
      "image/png": "[encoded data removed]",
      "text/plain": [
       "<Figure size 432x288 with 2 Axes>"
      ]
     },
     "metadata": {
      "needs_background": "light"
     },
     "output_type": "display_data"
    }
   ],
   "source": [
    "# stable version\n",
    "gw_dist = Entropic_GW(eps=1e-1, max_iter=100, thresh=1e-5, \n",
    "                      w_max_iter=1000, w_thresh=1e-9,\n",
    "                      inter_loss_type='square_loss', \n",
    "                      stable_sinkhorn=True, verbose=True)\n",
    "\n",
    "t0 = time()\n",
    "gw_cost, P = gw_dist(x, y, px, py)\n",
    "print('Computed in %.4f s' %(time() - t0))\n",
    "print('gw_cost: %.5f' %(gw_cost))\n",
    "\n",
    "show_P(P.to('cpu'), 'simple_rotation_P_stable.png', True)"
   ]
  },
  {
   "cell_type": "code",
   "execution_count": 128,
   "metadata": {},
   "outputs": [
    {
     "name": "stdout",
     "output_type": "stream",
     "text": [
      "Iter: 0 | Err = 0.117160\n",
      "Iter: 10 | Err = 0.050784\n",
      "Break in Gromov-Wasserstein at 17-th iteration: Err = 0.000003\n",
      "Computed in 0.0271 s\n",
      "gw_cost: 51.97699\n"
     ]
    },
    {
     "data": {
      "image/png": "[encoded data removed]",
      "text/plain": [
       "<Figure size 432x288 with 2 Axes>"
      ]
     },
     "metadata": {
      "needs_background": "light"
     },
     "output_type": "display_data"
    }
   ],
   "source": [
    "# original wasserstein\n",
    "# eps = 1e3, max_iter = 1\n",
    "gw_dist = Entropic_GW(eps=1e2, max_iter=100, thresh=1e-5, \n",
    "                      w_max_iter=10, w_thresh=1e-9,\n",
    "                      inter_loss_type='square_loss', \n",
    "                      stable_sinkhorn=False, verbose=True)\n",
    "\n",
    "t0 = time()\n",
    "gw_cost, P = gw_dist(x, y, px, py)\n",
    "print('Computed in %.4f s' %(time() - t0))\n",
    "print('gw_cost: %.5f' %(gw_cost))\n",
    "\n",
    "show_P(P.to('cpu'), 'simple_rotation_P_unstable.png', True)"
   ]
  },
  {
   "cell_type": "markdown",
   "metadata": {},
   "source": [
    "### Ex1: Simple translation"
   ]
  },
  {
   "cell_type": "code",
   "execution_count": 4,
   "metadata": {},
   "outputs": [],
   "source": [
    "# randomly create point clouds x, y\n",
    "# y is just a translated cloud from x\n",
    "\n",
    "x = torch.randn((50, 2)) * 10\n",
    "y = x.clone() + 100\n",
    "\n",
    "x = torch.tensor([[0, 0], [0, 2], [1, 0], [1, 1]]).float()\n",
    "y = x.clone() + 5\n",
    "\n",
    "n = 20\n",
    "x = torch.tensor([[i, 0*i + 1] for i in range(n)]).float()\n",
    "y = x.clone() + n\n",
    "\n",
    "#noise = torch.randn(y.shape) * 2\n",
    "\n",
    "px = torch.ones(x.shape[0])\n",
    "px /= px.sum()\n",
    "\n",
    "py = torch.ones(y.shape[0])\n",
    "py /= py.sum()"
   ]
  },
  {
   "cell_type": "code",
   "execution_count": 5,
   "metadata": {},
   "outputs": [
    {
     "data": {
      "text/plain": [
       "<matplotlib.collections.PathCollection at 0x2b6380dda210>"
      ]
     },
     "execution_count": 5,
     "metadata": {},
     "output_type": "execute_result"
    },
    {
     "data": {
      "image/png": "[encoded data removed]",
      "text/plain": [
       "<Figure size 432x288 with 1 Axes>"
      ]
     },
     "metadata": {
      "needs_background": "light"
     },
     "output_type": "display_data"
    }
   ],
   "source": [
    "# visualize the points in 2D\n",
    "\n",
    "points = torch.cat((x,y), dim=0)\n",
    "colors = torch.cat((torch.zeros(x.shape[0]), torch.ones(y.shape[0])), dim=0)\n",
    "\n",
    "plt.scatter(points[:,0], points[:, 1], c=colors)"
   ]
  },
  {
   "cell_type": "code",
   "execution_count": 6,
   "metadata": {},
   "outputs": [
    {
     "name": "stdout",
     "output_type": "stream",
     "text": [
      "cuda:0\n"
     ]
    }
   ],
   "source": [
    "device = torch.device('cuda:0' if torch.cuda.is_available() else 'cpu')\n",
    "print(device)\n",
    "\n",
    "x = x.to(device)\n",
    "y = y.to(device)\n",
    "px = px.to(device)\n",
    "py = py.to(device)"
   ]
  },
  {
   "cell_type": "code",
   "execution_count": 7,
   "metadata": {},
   "outputs": [
    {
     "name": "stdout",
     "output_type": "stream",
     "text": [
      "Iter: 0 | Err = 0.133750\n",
      "Break in Sinkhorn alg at 1-th iteration: Err = 0.000000\n",
      "Break in Sinkhorn alg at 1-th iteration: Err = 0.000000\n",
      "Break in Gromov-Wasserstein at 9-th iteration: Err = 0.000000\n",
      "Computed in 2.9462 s\n",
      "gw_cost: 0.00000\n"
     ]
    },
    {
     "data": {
      "image/png": "[encoded data removed]",
      "text/plain": [
       "<Figure size 432x288 with 2 Axes>"
      ]
     },
     "metadata": {
      "needs_background": "light"
     },
     "output_type": "display_data"
    }
   ],
   "source": [
    "# stable version\n",
    "# eps = 1e0 => w_max_iter is large\n",
    "gw_dist = Entropic_GW(eps=1e0, max_iter=100, thresh=1e-5, \n",
    "                      w_max_iter=500, w_thresh=1e-9,\n",
    "                      inter_loss_type='square_loss', \n",
    "                      stable_sinkhorn=True, verbose=True)\n",
    "\n",
    "t0 = time()\n",
    "gw_cost, P = gw_dist(x, y, px, py)\n",
    "print('Computed in %.4f s' %(time() - t0))\n",
    "print('gw_cost: %.5f' %(gw_cost))\n",
    "\n",
    "show_P(P.to('cpu'))"
   ]
  },
  {
   "cell_type": "code",
   "execution_count": 8,
   "metadata": {},
   "outputs": [
    {
     "name": "stdout",
     "output_type": "stream",
     "text": [
      "Iter: 0 | Err = 0.130958\n",
      "Iter: 10 | Err = 0.200735\n",
      "Break in Gromov-Wasserstein at 17-th iteration: Err = 0.000001\n",
      "Computed in 0.0244 s\n",
      "gw_cost: 24.04648\n"
     ]
    },
    {
     "data": {
      "image/png": "[encoded data removed]",
      "text/plain": [
       "<Figure size 432x288 with 2 Axes>"
      ]
     },
     "metadata": {
      "needs_background": "light"
     },
     "output_type": "display_data"
    }
   ],
   "source": [
    "# stable version\n",
    "# eps = 1e2, w_max_iter = 1 \n",
    "gw_dist = Entropic_GW(eps=1e2, max_iter=100, thresh=1e-5, \n",
    "                      w_max_iter=1, w_thresh=1e-9,\n",
    "                      inter_loss_type='square_loss', \n",
    "                      stable_sinkhorn=True, verbose=True)\n",
    "\n",
    "t0 = time()\n",
    "gw_cost, P = gw_dist(x, y, px, py)\n",
    "print('Computed in %.4f s' %(time() - t0))\n",
    "print('gw_cost: %.5f' %(gw_cost))\n",
    "\n",
    "show_P(P.to('cpu'))"
   ]
  },
  {
   "cell_type": "code",
   "execution_count": 9,
   "metadata": {
    "scrolled": true
   },
   "outputs": [
    {
     "name": "stdout",
     "output_type": "stream",
     "text": [
      "Iter: 0 | Err = 0.100426\n",
      "Iter: 10 | Err = 0.009123\n",
      "Iter: 20 | Err = 0.007239\n",
      "Iter: 30 | Err = 0.000091\n",
      "Break in Gromov-Wasserstein at 36-th iteration: Err = 0.000007\n",
      "Computed in 0.0278 s\n",
      "gw_cost: 698.69643\n"
     ]
    },
    {
     "data": {
      "image/png": "[encoded data removed]",
      "text/plain": [
       "<Figure size 432x288 with 2 Axes>"
      ]
     },
     "metadata": {
      "needs_background": "light"
     },
     "output_type": "display_data"
    }
   ],
   "source": [
    "# original wasserstein\n",
    "# eps = 1e3, max_iter = 1\n",
    "gw_dist = Entropic_GW(eps=1e3, max_iter=100, thresh=1e-5, \n",
    "                      w_max_iter=1, w_thresh=1e-9,\n",
    "                      inter_loss_type='square_loss', \n",
    "                      stable_sinkhorn=False, verbose=True)\n",
    "\n",
    "t0 = time()\n",
    "gw_cost, P = gw_dist(x, y, px, py)\n",
    "print('Computed in %.4f s' %(time() - t0))\n",
    "print('gw_cost: %.5f' %(gw_cost))\n",
    "\n",
    "show_P(P.to('cpu'))"
   ]
  },
  {
   "cell_type": "markdown",
   "metadata": {},
   "source": [
    "### Ex2: Simple translation of a point cloud"
   ]
  },
  {
   "cell_type": "code",
   "execution_count": 10,
   "metadata": {},
   "outputs": [],
   "source": [
    "# randomly create point clouds x, y\n",
    "# y is just a translated cloud from x\n",
    "\n",
    "x = torch.randn((100, 2)) * 10\n",
    "y = x.clone() + 100\n",
    "\n",
    "#noise = torch.randn(y.shape) * 2\n",
    "\n",
    "px = torch.ones(x.shape[0])\n",
    "px /= px.sum()\n",
    "\n",
    "py = torch.ones(y.shape[0])\n",
    "py /= py.sum()"
   ]
  },
  {
   "cell_type": "code",
   "execution_count": 11,
   "metadata": {},
   "outputs": [
    {
     "data": {
      "text/plain": [
       "<matplotlib.collections.PathCollection at 0x2b638fcdf3d0>"
      ]
     },
     "execution_count": 11,
     "metadata": {},
     "output_type": "execute_result"
    },
    {
     "data": {
      "image/png": "[encoded data removed]",
      "text/plain": [
       "<Figure size 432x288 with 1 Axes>"
      ]
     },
     "metadata": {
      "needs_background": "light"
     },
     "output_type": "display_data"
    }
   ],
   "source": [
    "# visualize the points in 2D\n",
    "\n",
    "points = torch.cat((x,y), dim=0)\n",
    "colors = torch.cat((torch.zeros(x.shape[0]), torch.ones(y.shape[0])), dim=0)\n",
    "\n",
    "plt.scatter(points[:,0], points[:, 1], c=colors)"
   ]
  },
  {
   "cell_type": "code",
   "execution_count": 12,
   "metadata": {},
   "outputs": [
    {
     "name": "stdout",
     "output_type": "stream",
     "text": [
      "cuda:0\n"
     ]
    }
   ],
   "source": [
    "x = x.double().to(device)\n",
    "y = y.double().to(device)\n",
    "px = px.double().to(device)\n",
    "py = py.double().to(device)\n",
    "\n",
    "print(device)"
   ]
  },
  {
   "cell_type": "code",
   "execution_count": 13,
   "metadata": {},
   "outputs": [
    {
     "name": "stdout",
     "output_type": "stream",
     "text": [
      "Iter: 0 | Err = 0.058588\n",
      "Break in Gromov-Wasserstein at 6-th iteration: Err = 0.000000\n",
      "Computed in 47.9549 s\n",
      "gw_cost: 0.12883\n"
     ]
    },
    {
     "data": {
      "image/png": "[encoded data removed]",
      "text/plain": [
       "<Figure size 432x288 with 2 Axes>"
      ]
     },
     "metadata": {
      "needs_background": "light"
     },
     "output_type": "display_data"
    }
   ],
   "source": [
    "# stable version\n",
    "# eps=50, w_max_iter need to be large\n",
    "gw_dist = Entropic_GW(eps=50, max_iter=50, thresh=1e-9, \n",
    "                      w_max_iter=10000, w_thresh=1e-9,\n",
    "                      inter_loss_type='square_loss', \n",
    "                      stable_sinkhorn=True, verbose=True)\n",
    "\n",
    "t0 = time()\n",
    "gw_cost, P = gw_dist(x, y, px, py)\n",
    "print('Computed in %.4f s' %(time() - t0))\n",
    "print('gw_cost: %.5f' %(gw_cost))\n",
    "\n",
    "show_P(P.to('cpu'))"
   ]
  },
  {
   "cell_type": "code",
   "execution_count": 14,
   "metadata": {},
   "outputs": [
    {
     "name": "stdout",
     "output_type": "stream",
     "text": [
      "Iter: 0 | Err = 0.022135\n",
      "Break in Gromov-Wasserstein at 9-th iteration: Err = 0.000000\n",
      "Computed in 0.1757 s\n",
      "gw_cost: 11291.01940\n"
     ]
    },
    {
     "data": {
      "image/png": "[encoded data removed]",
      "text/plain": [
       "<Figure size 432x288 with 2 Axes>"
      ]
     },
     "metadata": {
      "needs_background": "light"
     },
     "output_type": "display_data"
    }
   ],
   "source": [
    "# original version \n",
    "# eps = 1e4 (need to be large), w_max_iter = 100 (can be small)\n",
    "gw_dist = Entropic_GW(eps=1e4, max_iter=100, thresh=1e-9, \n",
    "                      w_max_iter=100, w_thresh=1e-9,\n",
    "                      inter_loss_type='square_loss', \n",
    "                      stable_sinkhorn=False, verbose=True)\n",
    "\n",
    "t0 = time()\n",
    "gw_cost, P = gw_dist(x, y, px, py)\n",
    "print('Computed in %.4f s' %(time() - t0))\n",
    "print('gw_cost: %.5f' %(gw_cost))\n",
    "\n",
    "show_P(P.to('cpu'))"
   ]
  },
  {
   "cell_type": "markdown",
   "metadata": {},
   "source": [
    "### Ex3: Simple translation of a point cloud"
   ]
  },
  {
   "cell_type": "code",
   "execution_count": 15,
   "metadata": {},
   "outputs": [],
   "source": [
    "# randomly create point clouds x, y\n",
    "# y is just a translated cloud from x\n",
    "\n",
    "x = torch.randn((1000, 2)) #* 10\n",
    "y = x.clone() + 100\n",
    "\n",
    "#noise = torch.randn(y.shape) * 2\n",
    "\n",
    "px = torch.ones(x.shape[0])\n",
    "px /= px.sum()\n",
    "\n",
    "py = torch.ones(y.shape[0])\n",
    "py /= py.sum()\n"
   ]
  },
  {
   "cell_type": "code",
   "execution_count": 16,
   "metadata": {},
   "outputs": [
    {
     "data": {
      "text/plain": [
       "<matplotlib.collections.PathCollection at 0x2b638fec3250>"
      ]
     },
     "execution_count": 16,
     "metadata": {},
     "output_type": "execute_result"
    },
    {
     "data": {
      "image/png": "[encoded data removed]",
      "text/plain": [
       "<Figure size 432x288 with 1 Axes>"
      ]
     },
     "metadata": {
      "needs_background": "light"
     },
     "output_type": "display_data"
    }
   ],
   "source": [
    "# visualize the points in 2D\n",
    "\n",
    "points = torch.cat((x,y), dim=0)\n",
    "colors = torch.cat((torch.zeros(x.shape[0]), torch.ones(y.shape[0])), dim=0)\n",
    "\n",
    "plt.scatter(points[:,0], points[:, 1], c=colors)"
   ]
  },
  {
   "cell_type": "code",
   "execution_count": 17,
   "metadata": {},
   "outputs": [],
   "source": [
    "x = x.double().to(device)\n",
    "y = y.double().to(device)\n",
    "px = px.double().to(device)\n",
    "py = py.double().to(device)"
   ]
  },
  {
   "cell_type": "code",
   "execution_count": 18,
   "metadata": {},
   "outputs": [
    {
     "name": "stdout",
     "output_type": "stream",
     "text": [
      "Iter: 0 | Err = 0.004594\n",
      "Break in Gromov-Wasserstein at 10-th iteration: Err = 0.000000\n",
      "Computed in 10.6978 s\n",
      "gw_cost: 0.11940\n"
     ]
    },
    {
     "data": {
      "image/png": "[encoded data removed]",
      "text/plain": [
       "<Figure size 432x288 with 2 Axes>"
      ]
     },
     "metadata": {
      "needs_background": "light"
     },
     "output_type": "display_data"
    }
   ],
   "source": [
    "# stable version\n",
    "# eps = 0.1 (small), w_max_iter = 1000 (large)\n",
    "gw_dist = Entropic_GW(eps=0.1, max_iter=50, thresh=1e-9, \n",
    "                      w_max_iter=1000, w_thresh=1e-9,\n",
    "                      inter_loss_type='square_loss', \n",
    "                      stable_sinkhorn=True, verbose=True)\n",
    "\n",
    "t0 = time()\n",
    "gw_cost, P = gw_dist(x, y, px, py)\n",
    "print('Computed in %.4f s' %(time() - t0))\n",
    "print('gw_cost: %.5f' %(gw_cost))\n",
    "\n",
    "show_P(P.to('cpu'))"
   ]
  },
  {
   "cell_type": "code",
   "execution_count": 19,
   "metadata": {},
   "outputs": [
    {
     "name": "stdout",
     "output_type": "stream",
     "text": [
      "Iter: 0 | Err = 0.002618\n",
      "Iter: 10 | Err = 0.000006\n",
      "Iter: 20 | Err = 0.000000\n",
      "Iter: 30 | Err = 0.000000\n",
      "Break in Gromov-Wasserstein at 31-th iteration: Err = 0.000000\n",
      "Computed in 1.4220 s\n",
      "gw_cost: 1.75271\n"
     ]
    },
    {
     "data": {
      "image/png": "[encoded data removed]",
      "text/plain": [
       "<Figure size 432x288 with 2 Axes>"
      ]
     },
     "metadata": {
      "needs_background": "light"
     },
     "output_type": "display_data"
    }
   ],
   "source": [
    "# unstable\n",
    "# eps = 1 (large), w_max_iter = 100 (small)\n",
    "gw_dist = Entropic_GW(eps=1, max_iter=50, thresh=1e-9, \n",
    "                      w_max_iter=100, w_thresh=1e-9,\n",
    "                      inter_loss_type='square_loss', \n",
    "                      stable_sinkhorn=False, verbose=True)\n",
    "\n",
    "t0 = time()\n",
    "gw_cost, P = gw_dist(x, y, px, py)\n",
    "print('Computed in %.4f s' %(time() - t0))\n",
    "print('gw_cost: %.5f' %(gw_cost))\n",
    "\n",
    "show_P(P.to('cpu'))"
   ]
  },
  {
   "cell_type": "markdown",
   "metadata": {},
   "source": [
    "Comparing with gromov.entropic_gromov_wasserstein of POT library"
   ]
  },
  {
   "cell_type": "code",
   "execution_count": 20,
   "metadata": {},
   "outputs": [],
   "source": [
    "import ot"
   ]
  },
  {
   "cell_type": "code",
   "execution_count": 21,
   "metadata": {},
   "outputs": [],
   "source": [
    "def cost_matrix(x, y):\n",
    "    x_row = x.unsqueeze(-2)\n",
    "    y_col = y.unsqueeze(-3)\n",
    "    \n",
    "    return torch.sum((x_row - y_col) ** 2, dim=-1)\n",
    "\n",
    "Cx = cost_matrix(x, x)\n",
    "Cy = cost_matrix(y, y)"
   ]
  },
  {
   "cell_type": "markdown",
   "metadata": {},
   "source": [
    "POT has to use 'cpu' -> much slower"
   ]
  },
  {
   "cell_type": "code",
   "execution_count": 22,
   "metadata": {},
   "outputs": [
    {
     "name": "stdout",
     "output_type": "stream",
     "text": [
      "It.  |Err         \n",
      "-------------------\n",
      "    0|2.556238e-03|\n",
      "   10|1.904903e-08|\n",
      "   20|2.397761e-10|\n",
      "compute in 26.43 s\n"
     ]
    },
    {
     "data": {
      "image/png": "[encoded data removed]",
      "text/plain": [
       "<Figure size 432x288 with 2 Axes>"
      ]
     },
     "metadata": {
      "needs_background": "light"
     },
     "output_type": "display_data"
    }
   ],
   "source": [
    "t0 = time()\n",
    "P = ot.gromov.entropic_gromov_wasserstein(Cx.to('cpu'), Cy.to('cpu'), px.to('cpu'), py.to('cpu'), loss_fun='square_loss', \n",
    "    epsilon=1., max_iter=50, tol=1e-9, verbose=True)\n",
    "print('compute in %.2f s' %(time() - t0))\n",
    "\n",
    "show_P(torch.from_numpy(P))"
   ]
  },
  {
   "cell_type": "code",
   "execution_count": null,
   "metadata": {},
   "outputs": [],
   "source": []
  }
 ],
 "metadata": {
  "kernelspec": {
   "display_name": "Python 3",
   "language": "python",
   "name": "python3"
  },
  "language_info": {
   "codemirror_mode": {
    "name": "ipython",
    "version": 3
   },
   "file_extension": ".py",
   "mimetype": "text/x-python",
   "name": "python",
   "nbconvert_exporter": "python",
   "pygments_lexer": "ipython3",
   "version": "3.7.5"
  }
 },
 "nbformat": 4,
 "nbformat_minor": 4
}
